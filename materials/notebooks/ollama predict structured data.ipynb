{
 "cells": [
  {
   "cell_type": "markdown",
   "metadata": {},
   "source": [
    "Using a Large Language Model (LLM) to predict structured data involves fine-tuning or prompting the LLM to understand tabular datasets. You can use LLMs for structured data prediction in multiple ways, including zero-shot learning, few-shot learning, fine-tuning, and hybrid approaches with traditional machine learning models. Here’s a step-by-step breakdown:"
   ]
  },
  {
   "cell_type": "markdown",
   "metadata": {},
   "source": [
    "# Understanding the Use Case\n",
    "LLMs are typically designed for unstructured data (text), but they can be adapted for structured data tasks such as:\n",
    "\n",
    "* Classification (predicting categories)\n",
    "* Regression (predicting numerical values)\n",
    "* Feature Engineering (generating new features)"
   ]
  },
  {
   "cell_type": "markdown",
   "metadata": {},
   "source": [
    "# Approaches to Using LLMs for Structured Data Prediction\n",
    "\n",
    "\n",
    "Prompting-Based Approaches\n",
    "You can use LLMs like GPT-4 or Claude with structured data using well-crafted prompts.\n",
    "\n",
    "# Example: Few-shot prompting for classification\n"
   ]
  },
  {
   "cell_type": "code",
   "execution_count": 11,
   "metadata": {},
   "outputs": [],
   "source": [
    "prompt = '''\n",
    "Here is some structured data:\n",
    "Age | Income | Previous Purchases | Customer Segment\n",
    "35  | 55000  | 5                 | Premium\n",
    "28  | 30000  | 2                 | Standard\n",
    "40  | 75000  | 7                 | Premium\n",
    "\n",
    "Given this pattern, classify this new customer:\n",
    "Age | Income | Previous Purchases | Customer Segment\n",
    "30  | 40000  | 3                 | ?\n",
    "\n",
    "Return your response in the following JSON format:\n",
    "{\n",
    "    \"label\": \"Standard or Premium\",\n",
    "    \"justification\": \"Brief explanation of why this classification was chosen\"\n",
    "}\n",
    "'''"
   ]
  },
  {
   "cell_type": "code",
   "execution_count": 12,
   "metadata": {},
   "outputs": [
    {
     "name": "stdout",
     "output_type": "stream",
     "text": [
      "Model's response:\n",
      "{\n",
      "    \"label\": \"Standard\",\n",
      "    \"justification\": \"The new customer is slightly younger (30 vs. average age 35) and has a lower income level ($40,000 vs. $55,000 for Premium segment). Considering these factors, the new customer might fit into the Standard segment.\"\n",
      "}\n"
     ]
    }
   ],
   "source": [
    "import requests\n",
    "\n",
    "def query_ollama(prompt, model=\"qwen2.5:3b\"):\n",
    "    # API endpoint for Ollama\n",
    "    url = \"http://localhost:11434/api/generate\"\n",
    "    \n",
    "    # Request payload\n",
    "    data = {\n",
    "        \"model\": model,\n",
    "        \"prompt\": prompt,\n",
    "        \"stream\": False\n",
    "    }\n",
    "    \n",
    "    try:\n",
    "        # Send POST request to Ollama\n",
    "        response = requests.post(url, json=data)\n",
    "        response.raise_for_status()  # Raise exception for HTTP errors\n",
    "        \n",
    "        # Extract the response\n",
    "        result = response.json()\n",
    "        return result['response'].strip()\n",
    "    \n",
    "    except requests.exceptions.RequestException as e:\n",
    "        return f\"Error querying Ollama: {str(e)}\"\n",
    "\n",
    "# Call the function with our prompt\n",
    "response = query_ollama(prompt)\n",
    "print(\"Model's response:\")\n",
    "print(response)"
   ]
  },
  {
   "cell_type": "code",
   "execution_count": 9,
   "metadata": {},
   "outputs": [
    {
     "data": {
      "application/vnd.microsoft.datawrangler.viewer.v0+json": {
       "columns": [
        {
         "name": "index",
         "rawType": "int64",
         "type": "integer"
        },
        {
         "name": "Customer_ID",
         "rawType": "int64",
         "type": "integer"
        },
        {
         "name": "Age",
         "rawType": "int32",
         "type": "integer"
        },
        {
         "name": "Income",
         "rawType": "int32",
         "type": "integer"
        },
        {
         "name": "Previous_Purchases",
         "rawType": "int32",
         "type": "integer"
        }
       ],
       "conversionMethod": "pd.DataFrame",
       "ref": "9d70d4bd-8d05-44af-bd29-907382bdb7a8",
       "rows": [
        [
         "0",
         "1001",
         "56",
         "92581",
         "11"
        ],
        [
         "1",
         "1002",
         "33",
         "112763",
         "2"
        ],
        [
         "2",
         "1003",
         "27",
         "112792",
         "13"
        ],
        [
         "3",
         "1004",
         "59",
         "118330",
         "3"
        ],
        [
         "4",
         "1005",
         "27",
         "118106",
         "12"
        ],
        [
         "5",
         "1006",
         "29",
         "65384",
         "0"
        ],
        [
         "6",
         "1007",
         "63",
         "77961",
         "7"
        ],
        [
         "7",
         "1008",
         "61",
         "112507",
         "5"
        ],
        [
         "8",
         "1009",
         "27",
         "47824",
         "0"
        ],
        [
         "9",
         "1010",
         "31",
         "96286",
         "13"
        ]
       ],
       "shape": {
        "columns": 4,
        "rows": 10
       }
      },
      "text/html": [
       "<div>\n",
       "<style scoped>\n",
       "    .dataframe tbody tr th:only-of-type {\n",
       "        vertical-align: middle;\n",
       "    }\n",
       "\n",
       "    .dataframe tbody tr th {\n",
       "        vertical-align: top;\n",
       "    }\n",
       "\n",
       "    .dataframe thead th {\n",
       "        text-align: right;\n",
       "    }\n",
       "</style>\n",
       "<table border=\"1\" class=\"dataframe\">\n",
       "  <thead>\n",
       "    <tr style=\"text-align: right;\">\n",
       "      <th></th>\n",
       "      <th>Customer_ID</th>\n",
       "      <th>Age</th>\n",
       "      <th>Income</th>\n",
       "      <th>Previous_Purchases</th>\n",
       "    </tr>\n",
       "  </thead>\n",
       "  <tbody>\n",
       "    <tr>\n",
       "      <th>0</th>\n",
       "      <td>1001</td>\n",
       "      <td>56</td>\n",
       "      <td>92581</td>\n",
       "      <td>11</td>\n",
       "    </tr>\n",
       "    <tr>\n",
       "      <th>1</th>\n",
       "      <td>1002</td>\n",
       "      <td>33</td>\n",
       "      <td>112763</td>\n",
       "      <td>2</td>\n",
       "    </tr>\n",
       "    <tr>\n",
       "      <th>2</th>\n",
       "      <td>1003</td>\n",
       "      <td>27</td>\n",
       "      <td>112792</td>\n",
       "      <td>13</td>\n",
       "    </tr>\n",
       "    <tr>\n",
       "      <th>3</th>\n",
       "      <td>1004</td>\n",
       "      <td>59</td>\n",
       "      <td>118330</td>\n",
       "      <td>3</td>\n",
       "    </tr>\n",
       "    <tr>\n",
       "      <th>4</th>\n",
       "      <td>1005</td>\n",
       "      <td>27</td>\n",
       "      <td>118106</td>\n",
       "      <td>12</td>\n",
       "    </tr>\n",
       "    <tr>\n",
       "      <th>5</th>\n",
       "      <td>1006</td>\n",
       "      <td>29</td>\n",
       "      <td>65384</td>\n",
       "      <td>0</td>\n",
       "    </tr>\n",
       "    <tr>\n",
       "      <th>6</th>\n",
       "      <td>1007</td>\n",
       "      <td>63</td>\n",
       "      <td>77961</td>\n",
       "      <td>7</td>\n",
       "    </tr>\n",
       "    <tr>\n",
       "      <th>7</th>\n",
       "      <td>1008</td>\n",
       "      <td>61</td>\n",
       "      <td>112507</td>\n",
       "      <td>5</td>\n",
       "    </tr>\n",
       "    <tr>\n",
       "      <th>8</th>\n",
       "      <td>1009</td>\n",
       "      <td>27</td>\n",
       "      <td>47824</td>\n",
       "      <td>0</td>\n",
       "    </tr>\n",
       "    <tr>\n",
       "      <th>9</th>\n",
       "      <td>1010</td>\n",
       "      <td>31</td>\n",
       "      <td>96286</td>\n",
       "      <td>13</td>\n",
       "    </tr>\n",
       "  </tbody>\n",
       "</table>\n",
       "</div>"
      ],
      "text/plain": [
       "   Customer_ID  Age  Income  Previous_Purchases\n",
       "0         1001   56   92581                  11\n",
       "1         1002   33  112763                   2\n",
       "2         1003   27  112792                  13\n",
       "3         1004   59  118330                   3\n",
       "4         1005   27  118106                  12\n",
       "5         1006   29   65384                   0\n",
       "6         1007   63   77961                   7\n",
       "7         1008   61  112507                   5\n",
       "8         1009   27   47824                   0\n",
       "9         1010   31   96286                  13"
      ]
     },
     "execution_count": 9,
     "metadata": {},
     "output_type": "execute_result"
    }
   ],
   "source": [
    "import numpy as np\n",
    "\n",
    "# Generate 10 sample customers with realistic data\n",
    "data = {\n",
    "    'Customer_ID': range(1001, 1011),\n",
    "    'Age': np.random.randint(25, 65, 10),\n",
    "    'Income': np.random.randint(30000, 120000, 10),\n",
    "    'Previous_Purchases': np.random.randint(0, 15, 10)\n",
    "}\n",
    "\n",
    "# Create the DataFrame\n",
    "customers_df = pd.DataFrame(data)\n",
    "customers_df"
   ]
  },
  {
   "cell_type": "code",
   "execution_count": 16,
   "metadata": {},
   "outputs": [
    {
     "data": {
      "text/plain": [
       "Index(['Customer_ID', 'Age', 'Income', 'Previous_Purchases'], dtype='object')"
      ]
     },
     "execution_count": 16,
     "metadata": {},
     "output_type": "execute_result"
    }
   ],
   "source": [
    "customers_df.columns"
   ]
  },
  {
   "cell_type": "code",
   "execution_count": 19,
   "metadata": {},
   "outputs": [
    {
     "data": {
      "text/plain": [
       "{'Customer_ID': 1001, 'Age': 56, 'Income': 92581, 'Previous_Purchases': 11}"
      ]
     },
     "execution_count": 19,
     "metadata": {},
     "output_type": "execute_result"
    }
   ],
   "source": [
    "customer_data = customers_df.iloc[0].to_dict()\n",
    "customer_data"
   ]
  },
  {
   "cell_type": "code",
   "execution_count": 20,
   "metadata": {},
   "outputs": [
    {
     "data": {
      "text/plain": [
       "56"
      ]
     },
     "execution_count": 20,
     "metadata": {},
     "output_type": "execute_result"
    }
   ],
   "source": [
    "customer_data['Age']"
   ]
  },
  {
   "cell_type": "code",
   "execution_count": 31,
   "metadata": {},
   "outputs": [
    {
     "name": "stdout",
     "output_type": "stream",
     "text": [
      "\n",
      "Here is some structured data:\n",
      "Age | Income | Previous Purchases | Customer Segment\n",
      "35  | 55000  | 5                 | Premium\n",
      "28  | 30000  | 2                 | Standard\n",
      "40  | 75000  | 7                 | Premium\n",
      "\n",
      "\n",
      "## Given this pattern, classify this new customer:\n",
      "Age | Income | Previous Purchases | Customer Segment\n",
      "22  | 1200  | 3                 | ?\n",
      "\n",
      "## Format your response **exactly** as follows:\n",
      "```json\n",
      "{\n",
      "    \"label\": \"<Standard or Premium>\",\n",
      "    \"justification\": \"Customer is classified as <Standard or Premium> because their income is <income> and they have <purchases> previous purchases, which falls under the defined criteria.\"\n",
      "}\n",
      "\n"
     ]
    }
   ],
   "source": [
    "template = '''\n",
    "Here is some structured data:\n",
    "Age | Income | Previous Purchases | Customer Segment\n",
    "35  | 55000  | 5                 | Premium\n",
    "28  | 30000  | 2                 | Standard\n",
    "40  | 75000  | 7                 | Premium\n",
    "\n",
    "\n",
    "## Given this pattern, classify this new customer:\n",
    "Age | Income | Previous Purchases | Customer Segment\n",
    "{age}  | {income}  | {purchases}                 | ?\n",
    "\n",
    "## Format your response **exactly** as follows:\n",
    "```json\n",
    "{{\n",
    "    \"label\": \"<Standard or Premium>\",\n",
    "    \"justification\": \"Customer is classified as <Standard or Premium> because their income is <income> and they have <purchases> previous purchases, which falls under the defined criteria.\"\n",
    "}}\n",
    "'''\n",
    "\n",
    "formatted_template = template.format(age=22, income=1200, purchases=3)\n",
    "print(formatted_template)"
   ]
  },
  {
   "cell_type": "code",
   "execution_count": 32,
   "metadata": {},
   "outputs": [
    {
     "name": "stdout",
     "output_type": "stream",
     "text": [
      "Generated prompt for first customer:\n",
      "\n",
      "Here is some structured data:\n",
      "Age | Income | Previous Purchases | Customer Segment\n",
      "35  | 55000  | 5                 | Premium\n",
      "28  | 30000  | 2                 | Standard\n",
      "40  | 75000  | 7                 | Premium\n",
      "\n",
      "\n",
      "## Given this pattern, classify this new customer:\n",
      "Age | Income | Previous Purchases | Customer Segment\n",
      "56  | 92581  | 11                 | ?\n",
      "\n",
      "## Format your response **exactly** as follows:\n",
      "```json\n",
      "{\n",
      "    \"label\": \"<Standard or Premium>\",\n",
      "    \"justification\": \"Customer is classified as <Standard or Premium> because their income is <income> and they have <purchases> previous purchases, which falls under the defined criteria.\"\n",
      "}\n",
      "\n"
     ]
    }
   ],
   "source": [
    "def create_structured_prompt(customer_data):\n",
    "    # Template data remains the same for reference\n",
    "\n",
    "    # Format the template with customer data\n",
    "    prompt = template.format(\n",
    "        age=customer_data['Age'],\n",
    "        income=customer_data['Income'],\n",
    "        purchases=customer_data['Previous_Purchases']\n",
    "    )\n",
    "    return prompt\n",
    "\n",
    "# Example using the first customer\n",
    "first_customer = customers_df.iloc[0].to_dict()\n",
    "new_prompt = create_structured_prompt(first_customer)\n",
    "print(\"Generated prompt for first customer:\")\n",
    "print(new_prompt)"
   ]
  },
  {
   "cell_type": "code",
   "execution_count": 36,
   "metadata": {},
   "outputs": [
    {
     "data": {
      "application/vnd.microsoft.datawrangler.viewer.v0+json": {
       "columns": [
        {
         "name": "index",
         "rawType": "int64",
         "type": "integer"
        },
        {
         "name": "Customer_ID",
         "rawType": "int64",
         "type": "integer"
        },
        {
         "name": "Age",
         "rawType": "int32",
         "type": "integer"
        },
        {
         "name": "Income",
         "rawType": "int32",
         "type": "integer"
        },
        {
         "name": "Previous_Purchases",
         "rawType": "int32",
         "type": "integer"
        },
        {
         "name": "Predicted_Segment",
         "rawType": "object",
         "type": "string"
        },
        {
         "name": "Justification",
         "rawType": "object",
         "type": "string"
        }
       ],
       "conversionMethod": "pd.DataFrame",
       "ref": "6d29387f-959d-4129-ae35-348c053d5bc8",
       "rows": [
        [
         "0",
         "1001",
         "56",
         "92581",
         "11",
         "Premium",
         "Customer is classified as Premium because their age is 56 and they have 11 previous purchases, which falls under the defined criteria for the Premium segment."
        ],
        [
         "1",
         "1002",
         "33",
         "112763",
         "2",
         "Premium",
         "Customer is classified as Premium because their age (33) is close to the average age of Premium customers (around 40), and they have a high income (112763) which falls under the criteria for Premium customers."
        ],
        [
         "2",
         "1003",
         "27",
         "112792",
         "13",
         "Premium",
         "Customer is classified as Premium because their income is 112792, which is considered high for this dataset, and they have 13 previous purchases, which is also above the average of 5. Therefore, based on the given data pattern, they fall under the Premium segment."
        ],
        [
         "3",
         "1004",
         "59",
         "118330",
         "3",
         "Premium",
         "Customer is classified as Premium because their age of 59 and income of 118330 with 3 previous purchases fall under the higher spending segment, which aligns with the Premium customer segment."
        ],
        [
         "4",
         "1005",
         "27",
         "118106",
         "12",
         "Premium",
         "Customer is classified as Premium because their income is 118106 (which exceeds the threshold for Premium customers) and they have 12 previous purchases, which falls under the defined criteria for Premium customers."
        ],
        [
         "5",
         "1006",
         "29",
         "65384",
         "0",
         "Standard",
         "Customer is classified as Standard because their income is 65384 and they have 0 previous purchases, which does not meet the higher purchase frequency criterion for Premium customers."
        ],
        [
         "6",
         "1007",
         "63",
         "77961",
         "7",
         "Premium",
         "Customer is classified as Premium because their age is 63 and they have 7 previous purchases, which falls under the defined criteria for the Premium segment based on existing data."
        ],
        [
         "7",
         "1008",
         "61",
         "112507",
         "5",
         "Premium",
         "Customer is classified as Premium because their age (61) places them in a senior category where Premium segment typically targets older customers with higher incomes and significant purchase history, matching the given income of 112507 and previous purchases of 5."
        ],
        [
         "8",
         "1009",
         "27",
         "47824",
         "0",
         "Standard",
         "Customer is classified as Standard because their income is 47824 and they have 0 previous purchases, which falls under the defined criteria for the Standard segment."
        ],
        [
         "9",
         "1010",
         "31",
         "96286",
         "13",
         "Premium",
         "Customer is classified as Premium because their income is 96286 and they have 13 previous purchases, which falls above the threshold for premium customers based on previous purchase count."
        ]
       ],
       "shape": {
        "columns": 6,
        "rows": 10
       }
      },
      "text/html": [
       "<div>\n",
       "<style scoped>\n",
       "    .dataframe tbody tr th:only-of-type {\n",
       "        vertical-align: middle;\n",
       "    }\n",
       "\n",
       "    .dataframe tbody tr th {\n",
       "        vertical-align: top;\n",
       "    }\n",
       "\n",
       "    .dataframe thead th {\n",
       "        text-align: right;\n",
       "    }\n",
       "</style>\n",
       "<table border=\"1\" class=\"dataframe\">\n",
       "  <thead>\n",
       "    <tr style=\"text-align: right;\">\n",
       "      <th></th>\n",
       "      <th>Customer_ID</th>\n",
       "      <th>Age</th>\n",
       "      <th>Income</th>\n",
       "      <th>Previous_Purchases</th>\n",
       "      <th>Predicted_Segment</th>\n",
       "      <th>Justification</th>\n",
       "    </tr>\n",
       "  </thead>\n",
       "  <tbody>\n",
       "    <tr>\n",
       "      <th>0</th>\n",
       "      <td>1001</td>\n",
       "      <td>56</td>\n",
       "      <td>92581</td>\n",
       "      <td>11</td>\n",
       "      <td>Premium</td>\n",
       "      <td>Customer is classified as Premium because thei...</td>\n",
       "    </tr>\n",
       "    <tr>\n",
       "      <th>1</th>\n",
       "      <td>1002</td>\n",
       "      <td>33</td>\n",
       "      <td>112763</td>\n",
       "      <td>2</td>\n",
       "      <td>Premium</td>\n",
       "      <td>Customer is classified as Premium because thei...</td>\n",
       "    </tr>\n",
       "    <tr>\n",
       "      <th>2</th>\n",
       "      <td>1003</td>\n",
       "      <td>27</td>\n",
       "      <td>112792</td>\n",
       "      <td>13</td>\n",
       "      <td>Premium</td>\n",
       "      <td>Customer is classified as Premium because thei...</td>\n",
       "    </tr>\n",
       "    <tr>\n",
       "      <th>3</th>\n",
       "      <td>1004</td>\n",
       "      <td>59</td>\n",
       "      <td>118330</td>\n",
       "      <td>3</td>\n",
       "      <td>Premium</td>\n",
       "      <td>Customer is classified as Premium because thei...</td>\n",
       "    </tr>\n",
       "    <tr>\n",
       "      <th>4</th>\n",
       "      <td>1005</td>\n",
       "      <td>27</td>\n",
       "      <td>118106</td>\n",
       "      <td>12</td>\n",
       "      <td>Premium</td>\n",
       "      <td>Customer is classified as Premium because thei...</td>\n",
       "    </tr>\n",
       "    <tr>\n",
       "      <th>5</th>\n",
       "      <td>1006</td>\n",
       "      <td>29</td>\n",
       "      <td>65384</td>\n",
       "      <td>0</td>\n",
       "      <td>Standard</td>\n",
       "      <td>Customer is classified as Standard because the...</td>\n",
       "    </tr>\n",
       "    <tr>\n",
       "      <th>6</th>\n",
       "      <td>1007</td>\n",
       "      <td>63</td>\n",
       "      <td>77961</td>\n",
       "      <td>7</td>\n",
       "      <td>Premium</td>\n",
       "      <td>Customer is classified as Premium because thei...</td>\n",
       "    </tr>\n",
       "    <tr>\n",
       "      <th>7</th>\n",
       "      <td>1008</td>\n",
       "      <td>61</td>\n",
       "      <td>112507</td>\n",
       "      <td>5</td>\n",
       "      <td>Premium</td>\n",
       "      <td>Customer is classified as Premium because thei...</td>\n",
       "    </tr>\n",
       "    <tr>\n",
       "      <th>8</th>\n",
       "      <td>1009</td>\n",
       "      <td>27</td>\n",
       "      <td>47824</td>\n",
       "      <td>0</td>\n",
       "      <td>Standard</td>\n",
       "      <td>Customer is classified as Standard because the...</td>\n",
       "    </tr>\n",
       "    <tr>\n",
       "      <th>9</th>\n",
       "      <td>1010</td>\n",
       "      <td>31</td>\n",
       "      <td>96286</td>\n",
       "      <td>13</td>\n",
       "      <td>Premium</td>\n",
       "      <td>Customer is classified as Premium because thei...</td>\n",
       "    </tr>\n",
       "  </tbody>\n",
       "</table>\n",
       "</div>"
      ],
      "text/plain": [
       "   Customer_ID  Age  Income  Previous_Purchases Predicted_Segment  \\\n",
       "0         1001   56   92581                  11           Premium   \n",
       "1         1002   33  112763                   2           Premium   \n",
       "2         1003   27  112792                  13           Premium   \n",
       "3         1004   59  118330                   3           Premium   \n",
       "4         1005   27  118106                  12           Premium   \n",
       "5         1006   29   65384                   0          Standard   \n",
       "6         1007   63   77961                   7           Premium   \n",
       "7         1008   61  112507                   5           Premium   \n",
       "8         1009   27   47824                   0          Standard   \n",
       "9         1010   31   96286                  13           Premium   \n",
       "\n",
       "                                       Justification  \n",
       "0  Customer is classified as Premium because thei...  \n",
       "1  Customer is classified as Premium because thei...  \n",
       "2  Customer is classified as Premium because thei...  \n",
       "3  Customer is classified as Premium because thei...  \n",
       "4  Customer is classified as Premium because thei...  \n",
       "5  Customer is classified as Standard because the...  \n",
       "6  Customer is classified as Premium because thei...  \n",
       "7  Customer is classified as Premium because thei...  \n",
       "8  Customer is classified as Standard because the...  \n",
       "9  Customer is classified as Premium because thei...  "
      ]
     },
     "execution_count": 36,
     "metadata": {},
     "output_type": "execute_result"
    }
   ],
   "source": [
    "import json\n",
    "\n",
    "def process_customer_response(response_text):\n",
    "    try:\n",
    "        # Extract JSON content between triple backticks if present\n",
    "        if '```json' in response_text:\n",
    "            json_content = response_text.split('```json\\n')[1].split('\\n```')[0]\n",
    "        else:\n",
    "            json_content = response_text\n",
    "            \n",
    "        response_dict = json.loads(json_content)\n",
    "        # print('Parsed response:', response_dict)\n",
    "        return response_dict['label'], response_dict['justification']\n",
    "    except:\n",
    "        # print('ERROR:', response_text)\n",
    "        return 'Error', 'Could not parse response'\n",
    "\n",
    "# Initialize empty lists for labels and justifications\n",
    "labels = []\n",
    "justifications = []\n",
    "\n",
    "# Process each customer\n",
    "for _, customer in customers_df.iterrows():\n",
    "    # Create prompt for current customer\n",
    "    customer_prompt = create_structured_prompt(customer.to_dict())\n",
    "    \n",
    "    # Get response from model\n",
    "    response = query_ollama(customer_prompt)\n",
    "    \n",
    "    # Process response and store results\n",
    "    label, justification = process_customer_response(response)\n",
    "    labels.append(label)\n",
    "    justifications.append(justification)\n",
    "    # print('-----------------------')\n",
    "\n",
    "# Add new columns to the DataFrame\n",
    "customers_df['Predicted_Segment'] = labels\n",
    "customers_df['Justification'] = justifications\n",
    "\n",
    "# Display updated DataFrame\n",
    "customers_df"
   ]
  },
  {
   "cell_type": "markdown",
   "metadata": {},
   "source": [
    "# Example: Few-shot prompting for regression"
   ]
  },
  {
   "cell_type": "code",
   "execution_count": 37,
   "metadata": {},
   "outputs": [],
   "source": [
    "template = '''\n",
    "Here is some structured data:\n",
    "House Size (sqft) | Bedrooms | Location | Price ($)\n",
    "1500              | 3        | Urban    | 300000\n",
    "2000              | 4        | Suburban | 400000\n",
    "1200              | 2        | Rural    | 200000\n",
    "\n",
    "\n",
    "## Given this pattern, predict this new house price:\n",
    "House Size (sqft) | Bedrooms | Location | Price ($)\n",
    "{size}  | {bedrooms}  | {location}                 | ?\n",
    "\n",
    "## Format your response **exactly** as follows:\n",
    "```json\n",
    "{{\n",
    "    \"price\": \"<Predicted Price>\",\n",
    "    \"justification\": \"The predicted price is based on the house size, number of bedrooms, and location. The average price per sqft in the given area is considered.\"\n",
    "}}\n",
    "'''"
   ]
  },
  {
   "cell_type": "code",
   "execution_count": 38,
   "metadata": {},
   "outputs": [
    {
     "data": {
      "application/vnd.microsoft.datawrangler.viewer.v0+json": {
       "columns": [
        {
         "name": "index",
         "rawType": "int64",
         "type": "integer"
        },
        {
         "name": "Size_sqft",
         "rawType": "int64",
         "type": "integer"
        },
        {
         "name": "Bedrooms",
         "rawType": "int64",
         "type": "integer"
        },
        {
         "name": "Location",
         "rawType": "object",
         "type": "string"
        }
       ],
       "conversionMethod": "pd.DataFrame",
       "ref": "c98824ad-a46d-40d7-99ba-3a78595a4881",
       "rows": [
        [
         "0",
         "1800",
         "3",
         "Urban"
        ],
        [
         "1",
         "2200",
         "4",
         "Suburban"
        ],
        [
         "2",
         "1500",
         "2",
         "Rural"
        ],
        [
         "3",
         "2800",
         "5",
         "Suburban"
        ],
        [
         "4",
         "1200",
         "2",
         "Urban"
        ]
       ],
       "shape": {
        "columns": 3,
        "rows": 5
       }
      },
      "text/html": [
       "<div>\n",
       "<style scoped>\n",
       "    .dataframe tbody tr th:only-of-type {\n",
       "        vertical-align: middle;\n",
       "    }\n",
       "\n",
       "    .dataframe tbody tr th {\n",
       "        vertical-align: top;\n",
       "    }\n",
       "\n",
       "    .dataframe thead th {\n",
       "        text-align: right;\n",
       "    }\n",
       "</style>\n",
       "<table border=\"1\" class=\"dataframe\">\n",
       "  <thead>\n",
       "    <tr style=\"text-align: right;\">\n",
       "      <th></th>\n",
       "      <th>Size_sqft</th>\n",
       "      <th>Bedrooms</th>\n",
       "      <th>Location</th>\n",
       "    </tr>\n",
       "  </thead>\n",
       "  <tbody>\n",
       "    <tr>\n",
       "      <th>0</th>\n",
       "      <td>1800</td>\n",
       "      <td>3</td>\n",
       "      <td>Urban</td>\n",
       "    </tr>\n",
       "    <tr>\n",
       "      <th>1</th>\n",
       "      <td>2200</td>\n",
       "      <td>4</td>\n",
       "      <td>Suburban</td>\n",
       "    </tr>\n",
       "    <tr>\n",
       "      <th>2</th>\n",
       "      <td>1500</td>\n",
       "      <td>2</td>\n",
       "      <td>Rural</td>\n",
       "    </tr>\n",
       "    <tr>\n",
       "      <th>3</th>\n",
       "      <td>2800</td>\n",
       "      <td>5</td>\n",
       "      <td>Suburban</td>\n",
       "    </tr>\n",
       "    <tr>\n",
       "      <th>4</th>\n",
       "      <td>1200</td>\n",
       "      <td>2</td>\n",
       "      <td>Urban</td>\n",
       "    </tr>\n",
       "  </tbody>\n",
       "</table>\n",
       "</div>"
      ],
      "text/plain": [
       "   Size_sqft  Bedrooms  Location\n",
       "0       1800         3     Urban\n",
       "1       2200         4  Suburban\n",
       "2       1500         2     Rural\n",
       "3       2800         5  Suburban\n",
       "4       1200         2     Urban"
      ]
     },
     "execution_count": 38,
     "metadata": {},
     "output_type": "execute_result"
    }
   ],
   "source": [
    "import pandas as pd\n",
    "import numpy as np\n",
    "\n",
    "# Generate sample data\n",
    "house_data = {\n",
    "    'Size_sqft': [1800, 2200, 1500, 2800, 1200],\n",
    "    'Bedrooms': [3, 4, 2, 5, 2],\n",
    "    'Location': ['Urban', 'Suburban', 'Rural', 'Suburban', 'Urban']\n",
    "}\n",
    "\n",
    "# Create DataFrame\n",
    "houses_df = pd.DataFrame(house_data)\n",
    "houses_df"
   ]
  },
  {
   "cell_type": "code",
   "execution_count": 39,
   "metadata": {},
   "outputs": [
    {
     "data": {
      "application/vnd.microsoft.datawrangler.viewer.v0+json": {
       "columns": [
        {
         "name": "index",
         "rawType": "int64",
         "type": "integer"
        },
        {
         "name": "Size_sqft",
         "rawType": "int64",
         "type": "integer"
        },
        {
         "name": "Bedrooms",
         "rawType": "int64",
         "type": "integer"
        },
        {
         "name": "Location",
         "rawType": "object",
         "type": "string"
        },
        {
         "name": "Predicted_Price",
         "rawType": "object",
         "type": "string"
        },
        {
         "name": "Justification",
         "rawType": "object",
         "type": "string"
        }
       ],
       "conversionMethod": "pd.DataFrame",
       "ref": "8ceaadeb-adf4-4d70-8f42-25b63609b9d1",
       "rows": [
        [
         "0",
         "1800",
         "3",
         "Urban",
         "350000",
         "Given the data provided, houses with a similar size (1800 sqft), number of bedrooms (3), and located in an Urban area have priced around $300,000 to $400,000. With 1800 sqft being halfway between the given house sizes, we can estimate the price to be closer to the midpoint of the provided prices, which is $350,000."
        ],
        [
         "1",
         "2200",
         "4",
         "Suburban",
         "468000",
         "The given data shows that houses with 2000 sqft for 4 bedrooms located in Suburban areas cost $400,000. Therefore, to predict the price of a house with 2200 sqft and 4 bedrooms in the same location, we can calculate it as follows: ($400,000 - $300,000) / (2200 - 2000) = $50 per sqft. Applying this to our new house size gives us a predicted price of $468,000."
        ],
        [
         "2",
         "1500",
         "2",
         "Rural",
         "225000",
         "Based on the provided data, houses with a size of 1500 sqft in rural areas have an average price of $300,000 for 3 bedrooms and $200,000 for 2 bedrooms. With 2 bedrooms and a rural location, we can estimate that this house is priced at approximately $225,000."
        ],
        [
         "3",
         "2800",
         "5",
         "Suburban",
         "560000",
         "The predicted price is based on the house size and location. The average price per sqft in Suburban areas is considered."
        ],
        [
         "4",
         "1200",
         "2",
         "Urban",
         "240000",
         "Based on the provided data, houses with a similar size (1200 sqft), number of bedrooms (2), and location (Urban) are priced at 300000. The average price per sqft in Urban areas is approximately 200 per sqft ($300000 / 1500 sqft = $200/sqft). Applying this rate to the new house size of 1200 sqft results in a predicted price of $240,000."
        ]
       ],
       "shape": {
        "columns": 5,
        "rows": 5
       }
      },
      "text/html": [
       "<div>\n",
       "<style scoped>\n",
       "    .dataframe tbody tr th:only-of-type {\n",
       "        vertical-align: middle;\n",
       "    }\n",
       "\n",
       "    .dataframe tbody tr th {\n",
       "        vertical-align: top;\n",
       "    }\n",
       "\n",
       "    .dataframe thead th {\n",
       "        text-align: right;\n",
       "    }\n",
       "</style>\n",
       "<table border=\"1\" class=\"dataframe\">\n",
       "  <thead>\n",
       "    <tr style=\"text-align: right;\">\n",
       "      <th></th>\n",
       "      <th>Size_sqft</th>\n",
       "      <th>Bedrooms</th>\n",
       "      <th>Location</th>\n",
       "      <th>Predicted_Price</th>\n",
       "      <th>Justification</th>\n",
       "    </tr>\n",
       "  </thead>\n",
       "  <tbody>\n",
       "    <tr>\n",
       "      <th>0</th>\n",
       "      <td>1800</td>\n",
       "      <td>3</td>\n",
       "      <td>Urban</td>\n",
       "      <td>350000</td>\n",
       "      <td>Given the data provided, houses with a similar...</td>\n",
       "    </tr>\n",
       "    <tr>\n",
       "      <th>1</th>\n",
       "      <td>2200</td>\n",
       "      <td>4</td>\n",
       "      <td>Suburban</td>\n",
       "      <td>468000</td>\n",
       "      <td>The given data shows that houses with 2000 sqf...</td>\n",
       "    </tr>\n",
       "    <tr>\n",
       "      <th>2</th>\n",
       "      <td>1500</td>\n",
       "      <td>2</td>\n",
       "      <td>Rural</td>\n",
       "      <td>225000</td>\n",
       "      <td>Based on the provided data, houses with a size...</td>\n",
       "    </tr>\n",
       "    <tr>\n",
       "      <th>3</th>\n",
       "      <td>2800</td>\n",
       "      <td>5</td>\n",
       "      <td>Suburban</td>\n",
       "      <td>560000</td>\n",
       "      <td>The predicted price is based on the house size...</td>\n",
       "    </tr>\n",
       "    <tr>\n",
       "      <th>4</th>\n",
       "      <td>1200</td>\n",
       "      <td>2</td>\n",
       "      <td>Urban</td>\n",
       "      <td>240000</td>\n",
       "      <td>Based on the provided data, houses with a simi...</td>\n",
       "    </tr>\n",
       "  </tbody>\n",
       "</table>\n",
       "</div>"
      ],
      "text/plain": [
       "   Size_sqft  Bedrooms  Location Predicted_Price  \\\n",
       "0       1800         3     Urban          350000   \n",
       "1       2200         4  Suburban          468000   \n",
       "2       1500         2     Rural          225000   \n",
       "3       2800         5  Suburban          560000   \n",
       "4       1200         2     Urban          240000   \n",
       "\n",
       "                                       Justification  \n",
       "0  Given the data provided, houses with a similar...  \n",
       "1  The given data shows that houses with 2000 sqf...  \n",
       "2  Based on the provided data, houses with a size...  \n",
       "3  The predicted price is based on the house size...  \n",
       "4  Based on the provided data, houses with a simi...  "
      ]
     },
     "execution_count": 39,
     "metadata": {},
     "output_type": "execute_result"
    }
   ],
   "source": [
    "def create_house_prompt(house_data):\n",
    "    prompt = template.format(\n",
    "        size=house_data['Size_sqft'],\n",
    "        bedrooms=house_data['Bedrooms'],\n",
    "        location=house_data['Location']\n",
    "    )\n",
    "    return prompt\n",
    "\n",
    "# Initialize empty lists for prices and justifications\n",
    "prices = []\n",
    "justifications = []\n",
    "\n",
    "# Process each house\n",
    "for _, house in houses_df.iterrows():\n",
    "    # Create prompt for current house\n",
    "    house_prompt = create_house_prompt(house)\n",
    "    \n",
    "    # Get response from model\n",
    "    response = query_ollama(house_prompt)\n",
    "    \n",
    "    # Process response\n",
    "    try:\n",
    "        if '```json' in response:\n",
    "            json_content = response.split('```json\\n')[1].split('\\n```')[0]\n",
    "        else:\n",
    "            json_content = response\n",
    "            \n",
    "        response_dict = json.loads(json_content)\n",
    "        prices.append(response_dict['price'])\n",
    "        justifications.append(response_dict['justification'])\n",
    "    except:\n",
    "        prices.append('Error')\n",
    "        justifications.append('Could not parse response')\n",
    "\n",
    "# Add new columns to the DataFrame\n",
    "houses_df['Predicted_Price'] = prices\n",
    "houses_df['Justification'] = justifications\n",
    "\n",
    "# Display updated DataFrame\n",
    "houses_df"
   ]
  },
  {
   "cell_type": "code",
   "execution_count": 40,
   "metadata": {},
   "outputs": [
    {
     "name": "stdout",
     "output_type": "stream",
     "text": [
      "DataFrames have been saved successfully!\n"
     ]
    }
   ],
   "source": [
    "# Save customers data\n",
    "customers_df.to_csv('customers_data.csv', index=False)\n",
    "\n",
    "# Save houses data\n",
    "houses_df.to_csv('houses_data.csv', index=False)\n",
    "\n",
    "print(\"DataFrames have been saved successfully!\")"
   ]
  }
 ],
 "metadata": {
  "kernelspec": {
   "display_name": "nlp",
   "language": "python",
   "name": "python3"
  },
  "language_info": {
   "codemirror_mode": {
    "name": "ipython",
    "version": 3
   },
   "file_extension": ".py",
   "mimetype": "text/x-python",
   "name": "python",
   "nbconvert_exporter": "python",
   "pygments_lexer": "ipython3",
   "version": "3.12.7"
  }
 },
 "nbformat": 4,
 "nbformat_minor": 2
}
