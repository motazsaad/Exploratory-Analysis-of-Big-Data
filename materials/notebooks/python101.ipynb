{
 "cells": [
  {
   "cell_type": "code",
   "execution_count": 1,
   "metadata": {},
   "outputs": [
    {
     "data": {
      "application/vnd.microsoft.datawrangler.viewer.v0+json": {
       "columns": [
        {
         "name": "index",
         "rawType": "int64",
         "type": "integer"
        },
        {
         "name": "id",
         "rawType": "int64",
         "type": "integer"
        },
        {
         "name": "value_1",
         "rawType": "float64",
         "type": "float"
        },
        {
         "name": "value_2",
         "rawType": "float64",
         "type": "float"
        },
        {
         "name": "category",
         "rawType": "object",
         "type": "string"
        },
        {
         "name": "date",
         "rawType": "datetime64[ns]",
         "type": "datetime"
        }
       ],
       "conversionMethod": "pd.DataFrame",
       "ref": "6f9bfb5f-4e48-445a-9bc4-a5dc1e6a2a28",
       "rows": [
        [
         "0",
         "0",
         "107.45071229516849",
         "8.374129112953488",
         "B",
         "2023-01-01 00:00:00"
        ],
        [
         "1",
         "1",
         "97.92603548243223",
         "5.228392016720012",
         "C",
         "2023-01-02 00:00:00"
        ],
        [
         "2",
         "2",
         "109.71532807151038",
         "31.821512477181834",
         "A",
         "2023-01-03 00:00:00"
        ],
        [
         "3",
         "3",
         "122.84544784612038",
         "35.32378632434506",
         "B",
         "2023-01-04 00:00:00"
        ],
        [
         "4",
         "4",
         "96.48769937914996",
         "1.5793072412821019",
         "C",
         "2023-01-05 00:00:00"
        ]
       ],
       "shape": {
        "columns": 5,
        "rows": 5
       }
      },
      "text/html": [
       "<div>\n",
       "<style scoped>\n",
       "    .dataframe tbody tr th:only-of-type {\n",
       "        vertical-align: middle;\n",
       "    }\n",
       "\n",
       "    .dataframe tbody tr th {\n",
       "        vertical-align: top;\n",
       "    }\n",
       "\n",
       "    .dataframe thead th {\n",
       "        text-align: right;\n",
       "    }\n",
       "</style>\n",
       "<table border=\"1\" class=\"dataframe\">\n",
       "  <thead>\n",
       "    <tr style=\"text-align: right;\">\n",
       "      <th></th>\n",
       "      <th>id</th>\n",
       "      <th>value_1</th>\n",
       "      <th>value_2</th>\n",
       "      <th>category</th>\n",
       "      <th>date</th>\n",
       "    </tr>\n",
       "  </thead>\n",
       "  <tbody>\n",
       "    <tr>\n",
       "      <th>0</th>\n",
       "      <td>0</td>\n",
       "      <td>107.450712</td>\n",
       "      <td>8.374129</td>\n",
       "      <td>B</td>\n",
       "      <td>2023-01-01</td>\n",
       "    </tr>\n",
       "    <tr>\n",
       "      <th>1</th>\n",
       "      <td>1</td>\n",
       "      <td>97.926035</td>\n",
       "      <td>5.228392</td>\n",
       "      <td>C</td>\n",
       "      <td>2023-01-02</td>\n",
       "    </tr>\n",
       "    <tr>\n",
       "      <th>2</th>\n",
       "      <td>2</td>\n",
       "      <td>109.715328</td>\n",
       "      <td>31.821512</td>\n",
       "      <td>A</td>\n",
       "      <td>2023-01-03</td>\n",
       "    </tr>\n",
       "    <tr>\n",
       "      <th>3</th>\n",
       "      <td>3</td>\n",
       "      <td>122.845448</td>\n",
       "      <td>35.323786</td>\n",
       "      <td>B</td>\n",
       "      <td>2023-01-04</td>\n",
       "    </tr>\n",
       "    <tr>\n",
       "      <th>4</th>\n",
       "      <td>4</td>\n",
       "      <td>96.487699</td>\n",
       "      <td>1.579307</td>\n",
       "      <td>C</td>\n",
       "      <td>2023-01-05</td>\n",
       "    </tr>\n",
       "  </tbody>\n",
       "</table>\n",
       "</div>"
      ],
      "text/plain": [
       "   id     value_1    value_2 category       date\n",
       "0   0  107.450712   8.374129        B 2023-01-01\n",
       "1   1   97.926035   5.228392        C 2023-01-02\n",
       "2   2  109.715328  31.821512        A 2023-01-03\n",
       "3   3  122.845448  35.323786        B 2023-01-04\n",
       "4   4   96.487699   1.579307        C 2023-01-05"
      ]
     },
     "execution_count": 1,
     "metadata": {},
     "output_type": "execute_result"
    }
   ],
   "source": [
    "import numpy as np\n",
    "import pandas as pd\n",
    "\n",
    "# Set random seed for reproducibility \n",
    "np.random.seed(42)\n",
    "\n",
    "# Generate random data\n",
    "n_samples = 1000\n",
    "data = {\n",
    "    'id': range(n_samples),\n",
    "    'value_1': np.random.normal(100, 15, n_samples),\n",
    "    'value_2': np.random.uniform(0, 50, n_samples),\n",
    "    'category': np.random.choice(['A', 'B', 'C'], n_samples),\n",
    "    'date': pd.date_range(start='2023-01-01', periods=n_samples)\n",
    "}\n",
    "\n",
    "# Create DataFrame\n",
    "df = pd.DataFrame(data)\n",
    "df.head()"
   ]
  }
 ],
 "metadata": {
  "kernelspec": {
   "display_name": "nlp",
   "language": "python",
   "name": "python3"
  },
  "language_info": {
   "codemirror_mode": {
    "name": "ipython",
    "version": 3
   },
   "file_extension": ".py",
   "mimetype": "text/x-python",
   "name": "python",
   "nbconvert_exporter": "python",
   "pygments_lexer": "ipython3",
   "version": "3.12.7"
  }
 },
 "nbformat": 4,
 "nbformat_minor": 2
}
